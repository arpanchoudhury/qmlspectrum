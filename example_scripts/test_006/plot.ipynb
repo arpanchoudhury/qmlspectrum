{
 "cells": [
  {
   "cell_type": "code",
   "execution_count": 22,
   "id": "753d26d1",
   "metadata": {},
   "outputs": [],
   "source": [
    "import matplotlib.pyplot as plt\n",
    "import numpy as np"
   ]
  },
  {
   "cell_type": "code",
   "execution_count": 23,
   "id": "889a379d",
   "metadata": {},
   "outputs": [],
   "source": [
    "def plot_bar_compare(lambda_min, Int1, Int2, dlambda, label, filename):\n",
    "    label1=label[0]\n",
    "    label2=label[1]\n",
    "    plt.bar(lambda_min, Int1, width = dlambda, label=label1,  color='red', alpha=0.2, align='edge', edgecolor='red')\n",
    "    plt.bar(lambda_min, Int2, width = dlambda, label=label2,  alpha=1.0, align='edge', fill=False, edgecolor='red')\n",
    "    plt.legend()\n",
    "    plt.xlabel('Wavelength (nm)', fontsize = 15)\n",
    "    plt.ylabel('Oscillator strength (au)', fontsize = 15)\n",
    "    plt.savefig(filename,bbox_inches='tight')\n",
    "    plt.show()\n",
    "    #plt.clf()\n",
    "    return 1"
   ]
  },
  {
   "cell_type": "code",
   "execution_count": 24,
   "id": "25b43c38",
   "metadata": {},
   "outputs": [
    {
     "name": "stdout",
     "output_type": "stream",
     "text": [
      "bin-widths: [  3.13200585   1.45611286   0.93232481   0.84469878   0.68151891\n",
      "   0.81163931   0.72639874   0.68738637   0.61491663   0.67203712\n",
      "   0.7258932    0.66894165   0.59541726   0.6302747    0.70728474\n",
      "   0.81662741   0.77454178   0.67147011   0.74497003   0.85569977\n",
      "   0.99262942   0.86768425   1.09705842   1.0269485    1.25124586\n",
      "   1.09944283   0.91637455   0.95889716   1.11689425   0.97585143\n",
      "   0.80502402   0.92353716   1.10782316   0.87657404   0.95260654\n",
      "   1.09009092   0.94143602   1.00896762   1.14691433   1.0348544\n",
      "   1.19448617   1.24816978   0.89150863   1.03163376   1.25593148\n",
      "   1.0630384    0.96685371   1.03827057   0.9462601    1.161409\n",
      "   1.58185495   1.38397157   1.03157173   1.15352682   1.24030827\n",
      "   1.29714231   1.07488666   1.11647219   1.25082417   1.29423938\n",
      "   1.44106876   1.0230182    1.21858538   1.65485505   1.53303613\n",
      "   1.63051832   1.24970786   1.53701887   1.45482249   1.51026107\n",
      "   0.97026495   1.38524455   1.25063693   1.40404012   1.58924385\n",
      "   1.22901219   1.45323637   1.47790307   1.79837806   2.28458519\n",
      "   2.18391995   2.23553665   2.52346973   3.23529563   3.26340832\n",
      "   3.48366009   5.03334066   5.54477199   8.04503181  15.26958517\n",
      "  22.45409297  31.29714183  33.58774986  24.64723735  25.77872608\n",
      "  46.64776125  30.70346307  55.32672864  55.21968752 130.71583781]\n"
     ]
    }
   ],
   "source": [
    "f=open('Int.dat', 'r')\n",
    "lambda_min=[]\n",
    "dlambda=[]\n",
    "Int1=[]\n",
    "Int2=[]\n",
    "for line in f:\n",
    "    string=line.split()\n",
    "    lambda_min.append(float(string[0]))\n",
    "    dlambda.append(float(string[1]))\n",
    "    Int1.append(float(string[2]))\n",
    "    Int2.append(float(string[3]))\n",
    "f.close()\n",
    "lambda_min=np.array(lambda_min)\n",
    "dlambda=np.array(dlambda)\n",
    "Int1=np.array(Int1)\n",
    "Int2=np.array(Int2)\n",
    "print('bin-widths:',dlambda)"
   ]
  },
  {
   "cell_type": "code",
   "execution_count": null,
   "id": "c577ea6c",
   "metadata": {},
   "outputs": [],
   "source": [
    "print('Minimum bin-width is',np.mindlambda)"
   ]
  },
  {
   "cell_type": "code",
   "execution_count": 35,
   "id": "e28d68df",
   "metadata": {},
   "outputs": [
    {
     "name": "stdout",
     "output_type": "stream",
     "text": [
      "[ 9.66545657e-03  6.06973163e-03 -2.43758341e-03 -3.52569723e-02\n",
      " -7.45314601e-02 -4.09415672e-03 -1.03733387e-02  7.50983339e-03\n",
      "  3.36078886e-03  2.50764215e-02 -3.22399508e-02  1.98376078e-02\n",
      " -8.44504191e-02 -1.02679568e-03  4.20909648e-03  2.06444653e-02\n",
      "  2.80075847e-03  2.55472569e-02 -9.86902171e-03 -3.35343935e-03\n",
      "  2.03462388e-02  2.54315805e-02  7.75057256e-04  2.10902488e-02\n",
      " -4.47348388e-03 -7.90745377e-02 -2.39927040e-02  1.03692310e-02\n",
      "  2.56537007e-02  9.12443597e-03 -2.77349763e-03  1.18673050e-02\n",
      " -4.22427521e-02  3.60555683e-03 -5.93205387e-03  2.17555933e-02\n",
      "  1.19855650e-02 -4.54287592e-02  1.76699213e-02  1.97805749e-02\n",
      "  5.37202089e-03 -2.01850769e-03  2.53732554e-03 -1.77249493e-03\n",
      "  1.09266219e-03  5.96293012e-03  6.93978900e-03 -2.26666357e-02\n",
      "  6.94314329e-03 -5.68794621e-03  8.63933510e-03 -8.56929815e-03\n",
      "  2.24531166e-02  3.80682580e-03  1.09019155e-02  5.20165609e-02\n",
      "  1.33716122e-02  3.01451810e-02 -1.25206865e-03  2.39306751e-02\n",
      "  1.96949672e-02 -2.48793127e-02  3.71760638e-03  5.36487022e-03\n",
      "  3.11221778e-02  2.44472545e-02 -1.43425912e-02 -5.09994663e-03\n",
      "  2.06644428e-02 -1.00759015e-01  2.42739738e-02  2.26705005e-02\n",
      "  2.47077675e-02  4.70999618e-02  3.32734697e-02 -5.64642524e-02\n",
      "  8.15366173e-03  5.70145179e-03  6.14529301e-03 -2.45464505e-02\n",
      "  7.43500288e-02 -2.11480212e-03  3.21860512e-02 -1.50450579e-01\n",
      "  6.70460039e-03 -8.36898001e-02  7.60658792e-03 -1.06941998e-02\n",
      "  1.87274661e-02  1.14466979e-02  1.60493409e-03  1.42702956e-05\n",
      "  4.41221907e-04  7.38910622e-04 -1.68792720e-03 -8.35480141e-03\n",
      "  1.33345199e-02 -1.04480404e-03  1.21706475e-02  1.29935051e-02]\n",
      "Confidence score: -97.52927193913368\n"
     ]
    }
   ],
   "source": [
    "dI=Int1/np.sum(Int1) - Int2/np.sum(Int2)\n",
    "print(dI)\n",
    "error=np.sum(np.abs(dI))\n",
    "phi=100*(1-error)\n",
    "print('Confidence score:',phi)"
   ]
  },
  {
   "cell_type": "code",
   "execution_count": 36,
   "id": "0a0acf25",
   "metadata": {},
   "outputs": [
    {
     "data": {
      "image/png": "[encoded data removed]",
      "text/plain": [
       "<Figure size 432x288 with 1 Axes>"
      ]
     },
     "metadata": {
      "needs_background": "light"
     },
     "output_type": "display_data"
    },
    {
     "data": {
      "text/plain": [
       "1"
      ]
     },
     "execution_count": 36,
     "metadata": {},
     "output_type": "execute_result"
    }
   ],
   "source": [
    "label=['ML','TDDFT']\n",
    "plot_bar_compare(lambda_min, Int1, Int2, dlambda, label, 'compare_ML_TDDFT.png')"
   ]
  },
  {
   "cell_type": "code",
   "execution_count": null,
   "id": "07e2e966",
   "metadata": {},
   "outputs": [],
   "source": []
  }
 ],
 "metadata": {
  "kernelspec": {
   "display_name": "Python 3",
   "language": "python",
   "name": "python3"
  },
  "language_info": {
   "codemirror_mode": {
    "name": "ipython",
    "version": 3
   },
   "file_extension": ".py",
   "mimetype": "text/x-python",
   "name": "python",
   "nbconvert_exporter": "python",
   "pygments_lexer": "ipython3",
   "version": "3.9.4"
  }
 },
 "nbformat": 4,
 "nbformat_minor": 5
}
